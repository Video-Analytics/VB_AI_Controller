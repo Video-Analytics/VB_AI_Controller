{
 "cells": [
  {
   "cell_type": "markdown",
   "metadata": {},
   "source": [
    "# Face detection and recognition inference pipeline\n",
    "\n",
    "The following example illustrates how to use the `facenet_pytorch` python package to perform face detection and recogition on an image dataset using an Inception Resnet V1 pretrained on the VGGFace2 dataset.\n",
    "\n",
    "The following Pytorch methods are included:\n",
    "* Datasets\n",
    "* Dataloaders\n",
    "* GPU/CPU processing"
   ]
  },
  {
   "cell_type": "code",
   "execution_count": 10,
   "metadata": {},
   "outputs": [],
   "source": [
    "from facenet_pytorch import MTCNN, InceptionResnetV1\n",
    "import torch\n",
    "from torch.utils.data import DataLoader\n",
    "from torchvision import datasets\n",
    "import numpy as np\n",
    "import pandas as pd\n",
    "import os\n",
    "import PIL\n",
    "\n",
    "workers = 0 if os.name == 'nt' else 4"
   ]
  },
  {
   "cell_type": "markdown",
   "metadata": {},
   "source": [
    "#### Determine if an nvidia GPU is available"
   ]
  },
  {
   "cell_type": "code",
   "execution_count": 2,
   "metadata": {},
   "outputs": [
    {
     "name": "stdout",
     "output_type": "stream",
     "text": [
      "Running on device: cuda:0\n"
     ]
    }
   ],
   "source": [
    "device = torch.device('cuda:0' if torch.cuda.is_available() else 'cpu')\n",
    "print('Running on device: {}'.format(device))"
   ]
  },
  {
   "cell_type": "markdown",
   "metadata": {},
   "source": [
    "#### Define MTCNN module\n",
    "\n",
    "Default params shown for illustration, but not needed. Note that, since MTCNN is a collection of neural nets and other code, the device must be passed in the following way to enable copying of objects when needed internally.\n",
    "\n",
    "See `help(MTCNN)` for more details."
   ]
  },
  {
   "cell_type": "code",
   "execution_count": 3,
   "metadata": {},
   "outputs": [],
   "source": [
    "mtcnn = MTCNN(\n",
    "    image_size=160, margin=0, min_face_size=20,\n",
    "    thresholds=[0.6, 0.7, 0.7], factor=0.709, post_process=True,\n",
    "    device=device\n",
    ")"
   ]
  },
  {
   "cell_type": "markdown",
   "metadata": {},
   "source": [
    "#### Define Inception Resnet V1 module\n",
    "\n",
    "Set classify=True for pretrained classifier. For this example, we will use the model to output embeddings/CNN features. Note that for inference, it is important to set the model to `eval` mode.\n",
    "\n",
    "See `help(InceptionResnetV1)` for more details."
   ]
  },
  {
   "cell_type": "code",
   "execution_count": 4,
   "metadata": {},
   "outputs": [
    {
     "data": {
      "application/vnd.jupyter.widget-view+json": {
       "model_id": "5b0e99481f3d409ca544a36aaec5d5f2",
       "version_major": 2,
       "version_minor": 0
      },
      "text/plain": [
       "  0%|          | 0.00/107M [00:00<?, ?B/s]"
      ]
     },
     "metadata": {},
     "output_type": "display_data"
    }
   ],
   "source": [
    "resnet = InceptionResnetV1(pretrained='vggface2').eval().to(device)"
   ]
  },
  {
   "cell_type": "markdown",
   "metadata": {},
   "source": [
    "#### Define a dataset and data loader\n",
    "\n",
    "We add the `idx_to_class` attribute to the dataset to enable easy recoding of label indices to identity names later one."
   ]
  },
  {
   "cell_type": "code",
   "execution_count": 5,
   "metadata": {},
   "outputs": [],
   "source": [
    "def collate_fn(x):\n",
    "    return x[0]\n",
    "\n",
    "dataset = datasets.ImageFolder('../data/test_images')\n",
    "dataset.idx_to_class = {i:c for c, i in dataset.class_to_idx.items()}\n",
    "loader = DataLoader(dataset, collate_fn=collate_fn, num_workers=workers)"
   ]
  },
  {
   "cell_type": "markdown",
   "metadata": {},
   "source": [
    "#### Perfom MTCNN facial detection\n",
    "\n",
    "Iterate through the DataLoader object and detect faces and associated detection probabilities for each. The `MTCNN` forward method returns images cropped to the detected face, if a face was detected. By default only a single detected face is returned - to have `MTCNN` return all detected faces, set `keep_all=True` when creating the MTCNN object above.\n",
    "\n",
    "To obtain bounding boxes rather than cropped face images, you can instead call the lower-level `mtcnn.detect()` function. See `help(mtcnn.detect)` for details."
   ]
  },
  {
   "cell_type": "code",
   "execution_count": 9,
   "metadata": {},
   "outputs": [
    {
     "name": "stdout",
     "output_type": "stream",
     "text": [
      "Help on method detect in module facenet_pytorch.models.mtcnn:\n",
      "\n",
      "detect(img, landmarks=False) method of facenet_pytorch.models.mtcnn.MTCNN instance\n",
      "    Detect all faces in PIL image and return bounding boxes and optional facial landmarks.\n",
      "    \n",
      "    This method is used by the forward method and is also useful for face detection tasks\n",
      "    that require lower-level handling of bounding boxes and facial landmarks (e.g., face\n",
      "    tracking). The functionality of the forward function can be emulated by using this method\n",
      "    followed by the extract_face() function.\n",
      "    \n",
      "    Arguments:\n",
      "        img {PIL.Image, np.ndarray, or list} -- A PIL image, np.ndarray, torch.Tensor, or list.\n",
      "    \n",
      "    Keyword Arguments:\n",
      "        landmarks {bool} -- Whether to return facial landmarks in addition to bounding boxes.\n",
      "            (default: {False})\n",
      "    \n",
      "    Returns:\n",
      "        tuple(numpy.ndarray, list) -- For N detected faces, a tuple containing an\n",
      "            Nx4 array of bounding boxes and a length N list of detection probabilities.\n",
      "            Returned boxes will be sorted in descending order by detection probability if\n",
      "            self.select_largest=False, otherwise the largest face will be returned first.\n",
      "            If `img` is a list of images, the items returned have an extra dimension\n",
      "            (batch) as the first dimension. Optionally, a third item, the facial landmarks,\n",
      "            are returned if `landmarks=True`.\n",
      "    \n",
      "    Example:\n",
      "    >>> from PIL import Image, ImageDraw\n",
      "    >>> from facenet_pytorch import MTCNN, extract_face\n",
      "    >>> mtcnn = MTCNN(keep_all=True)\n",
      "    >>> boxes, probs, points = mtcnn.detect(img, landmarks=True)\n",
      "    >>> # Draw boxes and save faces\n",
      "    >>> img_draw = img.copy()\n",
      "    >>> draw = ImageDraw.Draw(img_draw)\n",
      "    >>> for i, (box, point) in enumerate(zip(boxes, points)):\n",
      "    ...     draw.rectangle(box.tolist(), width=5)\n",
      "    ...     for p in point:\n",
      "    ...         draw.rectangle((p - 10).tolist() + (p + 10).tolist(), width=10)\n",
      "    ...     extract_face(img, box, save_path='detected_face_{}.png'.format(i))\n",
      "    >>> img_draw.save('annotated_faces.png')\n",
      "\n"
     ]
    }
   ],
   "source": [
    "help(mtcnn.detect)"
   ]
  },
  {
   "cell_type": "code",
   "execution_count": 24,
   "metadata": {},
   "outputs": [
    {
     "name": "stdout",
     "output_type": "stream",
     "text": [
      "[[859.1933   436.55597  953.55695  558.5786  ]\n",
      " [554.0928    45.482883 632.844    158.13803 ]\n",
      " [420.1428   133.00314  502.67487  240.19647 ]\n",
      " [225.79892  249.07404  304.81198  356.83865 ]\n",
      " [722.1528   464.3864   797.56744  573.20135 ]\n",
      " [622.1824   197.50801  694.8333   296.76474 ]]\n",
      "[0.9998134 0.99998   0.9999802 0.9997832 0.9984341 0.9995109]\n"
     ]
    }
   ],
   "source": [
    "from PIL import Image, ImageDraw\n",
    "from facenet_pytorch import MTCNN, extract_face\n",
    "\n",
    "mtcnn = MTCNN(keep_all=True)\n",
    "img = Image.open('../data/multiface.jpg')\n",
    "\n",
    "boxes, probs = mtcnn.detect(img)\n",
    "\n",
    "print(boxes)\n",
    "\n",
    "print(probs)\n",
    "\n",
    "\n",
    "# Draw boxes and save faces\n",
    "img_draw = img.copy()\n",
    "draw = ImageDraw.Draw(img_draw)\n",
    "for i, (box, point) in enumerate(zip(boxes, points)):\n",
    "    draw.rectangle(box.tolist(), width=5)\n",
    "img_draw.save('annotated_faces.png')"
   ]
  },
  {
   "cell_type": "code",
   "execution_count": 6,
   "metadata": {},
   "outputs": [
    {
     "name": "stdout",
     "output_type": "stream",
     "text": [
      "Face detected with probability: 0.999983\n",
      "Face detected with probability: 0.999934\n",
      "Face detected with probability: 0.999733\n",
      "Face detected with probability: 0.999880\n",
      "Face detected with probability: 0.999992\n"
     ]
    }
   ],
   "source": [
    "aligned = []\n",
    "names = []\n",
    "for x, y in loader:\n",
    "    x_aligned, prob = mtcnn(x, return_prob=True)\n",
    "    if x_aligned is not None:\n",
    "        print('Face detected with probability: {:8f}'.format(prob))\n",
    "        aligned.append(x_aligned)\n",
    "        names.append(dataset.idx_to_class[y])"
   ]
  },
  {
   "cell_type": "markdown",
   "metadata": {},
   "source": [
    "#### Calculate image embeddings\n",
    "\n",
    "MTCNN will return images of faces all the same size, enabling easy batch processing with the Resnet recognition module. Here, since we only have a few images, we build a single batch and perform inference on it. \n",
    "\n",
    "For real datasets, code should be modified to control batch sizes being passed to the Resnet, particularly if being processed on a GPU. For repeated testing, it is best to separate face detection (using MTCNN) from embedding or classification (using InceptionResnetV1), as calculation of cropped faces or bounding boxes can then be performed a single time and detected faces saved for future use."
   ]
  },
  {
   "cell_type": "code",
   "execution_count": 7,
   "metadata": {},
   "outputs": [],
   "source": [
    "aligned = torch.stack(aligned).to(device)\n",
    "embeddings = resnet(aligned).detach().cpu()"
   ]
  },
  {
   "cell_type": "markdown",
   "metadata": {},
   "source": [
    "#### Print distance matrix for classes"
   ]
  },
  {
   "cell_type": "code",
   "execution_count": 8,
   "metadata": {},
   "outputs": [
    {
     "name": "stdout",
     "output_type": "stream",
     "text": [
      "                angelina_jolie  bradley_cooper  kate_siegel  paul_rudd  \\\n",
      "angelina_jolie        0.000000        1.447480     0.887728   1.429847   \n",
      "bradley_cooper        1.447480        0.000000     1.313749   1.013447   \n",
      "kate_siegel           0.887728        1.313749     0.000000   1.388377   \n",
      "paul_rudd             1.429847        1.013447     1.388377   0.000000   \n",
      "shea_whigham          1.399073        1.038684     1.379655   1.100503   \n",
      "\n",
      "                shea_whigham  \n",
      "angelina_jolie      1.399073  \n",
      "bradley_cooper      1.038684  \n",
      "kate_siegel         1.379655  \n",
      "paul_rudd           1.100503  \n",
      "shea_whigham        0.000000  \n"
     ]
    }
   ],
   "source": [
    "dists = [[(e1 - e2).norm().item() for e2 in embeddings] for e1 in embeddings]\n",
    "print(pd.DataFrame(dists, columns=names, index=names))"
   ]
  },
  {
   "cell_type": "code",
   "execution_count": null,
   "metadata": {},
   "outputs": [],
   "source": []
  }
 ],
 "metadata": {
  "kernelspec": {
   "display_name": "Python 3",
   "language": "python",
   "name": "python3"
  },
  "language_info": {
   "codemirror_mode": {
    "name": "ipython",
    "version": 3
   },
   "file_extension": ".py",
   "mimetype": "text/x-python",
   "name": "python",
   "nbconvert_exporter": "python",
   "pygments_lexer": "ipython3",
   "version": "3.8.5"
  }
 },
 "nbformat": 4,
 "nbformat_minor": 2
}
